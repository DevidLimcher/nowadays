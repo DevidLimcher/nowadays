{
 "cells": [
  {
   "cell_type": "markdown",
   "metadata": {},
   "source": [
    "## Практическая работа \"TTS Системы\"\n",
    "### Выполнил: Сидельников Дэвид Константинович, группа КЭ-228"
   ]
  },
  {
   "cell_type": "code",
   "execution_count": 1,
   "metadata": {},
   "outputs": [],
   "source": [
    "import requests\n",
    "\n",
    "def get_tts_zvukogram(text):\n",
    "    url = \"https://zvukogram.com/index.php?r=api/text\"\n",
    "    payload = {\n",
    "        \"text\": text,\n",
    "        \"lang\": \"ru\",   # Указываем язык, например русский\n",
    "        \"voice\": \"male\" # Выбираем голос (можно указать \"male\" или \"female\")\n",
    "    }\n",
    "    response = requests.post(url, json=payload)\n",
    "    \n",
    "    # Проверка на успешность запроса\n",
    "    if response.status_code == 200:\n",
    "        audio_data = response.content\n",
    "        # Сохраним аудио результат\n",
    "        with open(\"zvukogram_output.mp3\", \"wb\") as f:\n",
    "            f.write(audio_data)\n",
    "        print(\"Озвучка успешно сгенерирована и сохранена как zvukogram_output.mp3\")\n",
    "    else:\n",
    "        print(\"Произошла ошибка:\", response.json())\n"
   ]
  },
  {
   "cell_type": "code",
   "execution_count": 2,
   "metadata": {},
   "outputs": [
    {
     "name": "stdout",
     "output_type": "stream",
     "text": [
      "Озвучка успешно сгенерирована и сохранена как zvukogram_output.mp3\n"
     ]
    }
   ],
   "source": [
    "# Тестируем с нашим текстом\n",
    "text = \"Это твой последний шанс. Потом пути назад не будет. Примешь синюю таблетку — и история закончится, ты проснёшься в своей постели и поверишь, во что захочешь. Примешь красную таблетку — останешься в Стране чудес, и я покажу тебе, насколько глубока кроличья нора.\"\n",
    "get_tts_zvukogram(text)"
   ]
  },
  {
   "cell_type": "code",
   "execution_count": null,
   "metadata": {},
   "outputs": [],
   "source": []
  }
 ],
 "metadata": {
  "kernelspec": {
   "display_name": "Python nowadays (venv)",
   "language": "python",
   "name": "venv"
  },
  "language_info": {
   "codemirror_mode": {
    "name": "ipython",
    "version": 3
   },
   "file_extension": ".py",
   "mimetype": "text/x-python",
   "name": "python",
   "nbconvert_exporter": "python",
   "pygments_lexer": "ipython3",
   "version": "3.11.5"
  }
 },
 "nbformat": 4,
 "nbformat_minor": 2
}
